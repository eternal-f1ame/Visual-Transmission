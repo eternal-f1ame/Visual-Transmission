{
 "cells": [
  {
   "cell_type": "code",
   "execution_count": 6,
   "metadata": {},
   "outputs": [],
   "source": [
    "import heapq\n",
    "import collections\n",
    "import numpy as np\n",
    "import matplotlib.pyplot as plt\n",
    "import json\n",
    "import PIL\n",
    "import warnings\n",
    "warnings.filterwarnings('ignore')\n",
    "\n",
    "with open('char_map.json', 'r') as f:\n",
    "    char_map = json.load(f)\n",
    "\n",
    "char_map = {int(k): v for k, v in char_map.items()}\n",
    "reverse_char_map = {v: k for k, v in char_map.items()}"
   ]
  },
  {
   "attachments": {},
   "cell_type": "markdown",
   "metadata": {},
   "source": [
    "## **Compression and Retrieval**"
   ]
  },
  {
   "cell_type": "code",
   "execution_count": 7,
   "metadata": {},
   "outputs": [],
   "source": [
    "class TransmissionData():\n",
    "    def __init__(self, img):\n",
    "        self.img = img\n",
    "        self.information = self.make_string_from_image()\n",
    "        self.string = r'<l>'+str(img.shape[0])+r'<h>'+str(img.shape[1])+r'<s>'+self.make_string_from_image()+r'<e>'\n",
    "        self.encoded_string, self.huffman_codes = self.huffman_encode()\n",
    "        self.encoded_string_length = len(self.encoded_string)\n",
    "\n",
    "    def make_string_from_image(self):\n",
    "        image = self.img\n",
    "        string = []\n",
    "        for i in range(image.shape[0]):\n",
    "            for j in range(image.shape[1]):\n",
    "                string.append(char_map[image[i][j]])\n",
    "        return r''.join(string)\n",
    "    \n",
    "    def huffman_encode(self):\n",
    "        text = self.string\n",
    "        freq = collections.Counter(text)\n",
    "        heap = [[weight, [char, r'']] for char, weight in freq.items()]\n",
    "        heapq.heapify(heap)\n",
    "        while len(heap) > 1:\n",
    "            lo = heapq.heappop(heap)\n",
    "            hi = heapq.heappop(heap)\n",
    "            for pair in lo[1:]:\n",
    "                pair[1] = '0' + pair[1]\n",
    "            for pair in hi[1:]:\n",
    "                pair[1] = '1' + pair[1]\n",
    "            heapq.heappush(heap, [lo[0] + hi[0]] + lo[1:] + hi[1:])\n",
    "\n",
    "        huffman_codes = dict(sorted(heapq.heappop(heap)[1:], key=lambda x: (len(x[-1]), x)))\n",
    "        return ''.join(huffman_codes[char] for char in text), huffman_codes\n",
    "\n",
    "    def show_image(self):\n",
    "        plt.imshow(self.img, cmap='gray')\n",
    "        plt.show()\n",
    "\n",
    "\n",
    "class RecievedData():\n",
    "    def __init__(self, string, huffman_codes):\n",
    "\n",
    "        self.string = string\n",
    "        self.huffman_codes = huffman_codes\n",
    "        self.decoded_string = self.huffman_decode()\n",
    "        start = self.decoded_string.find(r'<s>')+3\n",
    "        end = self.decoded_string.find(r'<e>')\n",
    "        start_d = self.decoded_string.find(r'<l>')+3\n",
    "        end_d = self.decoded_string.find(r'<h>')\n",
    "        legth = int(self.decoded_string[start_d:end_d])\n",
    "        height = int(self.decoded_string[end_d+3:end_d+5])\n",
    "        self.dimension = (legth, height)\n",
    "        self.decoded_string = self.decoded_string[start:end]\n",
    "        self.img = self.make_image_from_string()\n",
    "\n",
    "    def huffman_decode(self):\n",
    "\n",
    "        reverse_huffman_codes = {code: char for char, code in self.huffman_codes.items()}\n",
    "        decoded_text = r''\n",
    "        current_code = r''\n",
    "\n",
    "        for bit in self.string:\n",
    "            current_code += bit\n",
    "            if current_code in reverse_huffman_codes:\n",
    "                char = reverse_huffman_codes[current_code]\n",
    "                decoded_text += char\n",
    "                current_code = r''\n",
    "        return decoded_text\n",
    "\n",
    "    def make_image_from_string(self):\n",
    "        string = self.decoded_string\n",
    "        image = np.zeros(self.dimension, dtype=np.uint8)\n",
    "        for i in range(self.dimension[0]):\n",
    "            for j in range(self.dimension[1]):\n",
    "                image[i][j] = reverse_char_map[string[i*self.dimension[1]+j]]\n",
    "        return image\n",
    "\n",
    "    def show_image(self):\n",
    "        plt.imshow(self.img, cmap='gray')\n",
    "        plt.show()\n"
   ]
  },
  {
   "cell_type": "code",
   "execution_count": 8,
   "metadata": {},
   "outputs": [],
   "source": [
    "image = PIL.Image.open('fb.png')\n",
    "image = image.resize((16, 16))\n",
    "image = np.array(image)"
   ]
  },
  {
   "cell_type": "code",
   "execution_count": 9,
   "metadata": {},
   "outputs": [
    {
     "data": {
      "image/png": "[encoded data removed]",
      "text/plain": [
       "<Figure size 640x480 with 1 Axes>"
      ]
     },
     "metadata": {},
     "output_type": "display_data"
    }
   ],
   "source": [
    "img = image//4\n",
    "transmission_data = TransmissionData(img)\n",
    "transmission_data.show_image()"
   ]
  },
  {
   "cell_type": "code",
   "execution_count": 10,
   "metadata": {},
   "outputs": [
    {
     "data": {
      "image/png": "[encoded data removed]",
      "text/plain": [
       "<Figure size 640x480 with 1 Axes>"
      ]
     },
     "metadata": {},
     "output_type": "display_data"
    }
   ],
   "source": [
    "recieved_data = RecievedData(transmission_data.encoded_string, transmission_data.huffman_codes)\n",
    "recieved_data.show_image()"
   ]
  }
 ],
 "metadata": {
  "kernelspec": {
   "display_name": "CP",
   "language": "python",
   "name": "python3"
  },
  "language_info": {
   "codemirror_mode": {
    "name": "ipython",
    "version": 3
   },
   "file_extension": ".py",
   "mimetype": "text/x-python",
   "name": "python",
   "nbconvert_exporter": "python",
   "pygments_lexer": "ipython3",
   "version": "3.9.16"
  },
  "orig_nbformat": 4
 },
 "nbformat": 4,
 "nbformat_minor": 2
}

{
 "cells": [
  {
   "cell_type": "code",
   "execution_count": 2,
   "metadata": {},
   "outputs": [],
   "source": [
    "import os\n",
    "import heapq\n",
    "import collections\n",
    "import numpy as np\n",
    "import matplotlib.pyplot as plt\n",
    "import json\n",
    "import PIL\n",
    "import warnings\n",
    "import serial\n",
    "warnings.filterwarnings('ignore')\n",
    "\n",
    "with open('char_map.json', 'r') as f:\n",
    "    char_map = json.load(f)\n",
    "\n",
    "char_map = {int(k): v for k, v in char_map.items()}\n",
    "reverse_char_map = {v: k for k, v in char_map.items()}"
   ]
  },
  {
   "attachments": {},
   "cell_type": "markdown",
   "metadata": {},
   "source": [
    "## **Compression and Retrieval**"
   ]
  },
  {
   "cell_type": "code",
   "execution_count": 3,
   "metadata": {},
   "outputs": [],
   "source": [
    "class TransmissionData():\n",
    "    def __init__(self, img, huffman_codes):\n",
    "        self.img = img\n",
    "        self.information = self.make_string_from_image()\n",
    "        self.string = '<l>'+str(img.shape[0])+'<h>'+str(img.shape[1])+'<s>'+self.make_string_from_image()+'<e>'\n",
    "        self.huffman_codes = huffman_codes\n",
    "        self.encoded_string = self.huffman_encode()\n",
    "        self.encoded_string_length = len(self.encoded_string)\n",
    "\n",
    "        self.send()\n",
    "\n",
    "    def make_string_from_image(self):\n",
    "        image = self.img\n",
    "        string = []\n",
    "        for i in range(image.shape[0]):\n",
    "            for j in range(image.shape[1]):\n",
    "                string.append(char_map[image[i][j]])\n",
    "        return ''.join(string)\n",
    "    \n",
    "    def huffman_encode(self):\n",
    "        text = self.string\n",
    "        freq = collections.Counter(text)\n",
    "        heap = [[weight, [char, '']] for char, weight in freq.items()]\n",
    "        heapq.heapify(heap)\n",
    "        while len(heap) > 1:\n",
    "            lo = heapq.heappop(heap)\n",
    "            hi = heapq.heappop(heap)\n",
    "            for pair in lo[1:]:\n",
    "                pair[1] = '0' + pair[1]\n",
    "            for pair in hi[1:]:\n",
    "                pair[1] = '1' + pair[1]\n",
    "            heapq.heappush(heap, [lo[0] + hi[0]] + lo[1:] + hi[1:])\n",
    "\n",
    "        return ''.join(self.huffman_codes[char] for char in text)\n",
    "\n",
    "    def show_image(self):\n",
    "        plt.imshow(self.img, cmap='gray')\n",
    "        plt.show()\n",
    "\n",
    "    def send(self):\n",
    "        ser = serial.Serial(\"/dev/tty.usbmodem11101\", baudrate = 9600, timeout=3)\n",
    "        for _ in range(2):\n",
    "            for i in range(len(self.encoded_string)):\n",
    "                ser.write(bytearray(self.encoded_string[i],'ascii'))\n",
    "                print(i,ser.readline().decode('ascii'))\n",
    "\n",
    "    def gen_huffman_codes(images_dir):\n",
    "        all_strings = []\n",
    "        for image in os.listdir(images_dir):\n",
    "            string = []\n",
    "            img = PIL.Image.open(os.path.join(images_dir, image)).convert('L')\n",
    "            img = np.array(img).astype(np.uint8)\n",
    "            img = img//4\n",
    "            for i in range(img.shape[0]):\n",
    "                for j in range(img.shape[1]):\n",
    "                    string.append(char_map[img[i][j]])\n",
    "    \n",
    "            string = '<l>'+str(img.shape[0])+'<h>'+str(img.shape[1])+'<s>'+''.join(string)+'<e>'\n",
    "            all_strings.append(string)\n",
    "\n",
    "        text = ''.join(all_strings)\n",
    "        freq = collections.Counter(text)\n",
    "        heap = [[weight, [char, '']] for char, weight in freq.items()]\n",
    "        heapq.heapify(heap)\n",
    "        while len(heap) > 1:\n",
    "            lo = heapq.heappop(heap)\n",
    "            hi = heapq.heappop(heap)\n",
    "            for pair in lo[1:]:\n",
    "                pair[1] = '0' + pair[1]\n",
    "            for pair in hi[1:]:\n",
    "                pair[1] = '1' + pair[1]\n",
    "            heapq.heappush(heap, [lo[0] + hi[0]] + lo[1:] + hi[1:])\n",
    "        huffman_codes = dict(heapq.heappop(heap)[1:])\n",
    "        with open('huffman_codes.json', 'w') as f:\n",
    "            json.dump(huffman_codes, f)\n",
    "\n",
    "class RecievedData():\n",
    "    def __init__(self, huffman_codes):\n",
    "\n",
    "        self.string = self.recieve()\n",
    "        self.huffman_codes = huffman_codes\n",
    "        self.decoded_string = self.huffman_decode()\n",
    "        start = self.decoded_string.find('<s>')+3\n",
    "        end = start + self.decoded_string[start:].find('<e>')\n",
    "        start_d = self.decoded_string.find('<l>')+3\n",
    "        end_d = self.decoded_string.find('<h>')\n",
    "        legth = int(self.decoded_string[start_d:end_d])\n",
    "        height = int(self.decoded_string[end_d+3:end_d+5])\n",
    "        self.dimension = (legth, height)\n",
    "        self.decoded_string = self.decoded_string[start:end]\n",
    "        self.img = self.make_image_from_string()\n",
    "\n",
    "\n",
    "\n",
    "    def huffman_decode(self):\n",
    "        reverse_huffman_codes = {code: char for char, code in self.huffman_codes.items()}\n",
    "        decoded_text = ''\n",
    "        current_code = ''\n",
    "\n",
    "        for bit in self.string:\n",
    "            current_code += bit\n",
    "            if current_code in reverse_huffman_codes:\n",
    "                char = reverse_huffman_codes[current_code]\n",
    "                decoded_text += char\n",
    "                current_code = ''\n",
    "        return decoded_text\n",
    "\n",
    "    def make_image_from_string(self):\n",
    "        string = self.decoded_string\n",
    "        image = np.zeros(self.dimension, dtype=np.uint8)\n",
    "        for i in range(self.dimension[0]):\n",
    "            for j in range(self.dimension[1]):\n",
    "                image[i][j] = reverse_char_map[string[i*self.dimension[1]+j]]\n",
    "        return image\n",
    "\n",
    "    def show_image(self):\n",
    "        plt.imshow(self.img, cmap='gray')\n",
    "        plt.show()\n",
    "\n",
    "    def recieve(self):\n",
    "        switch = False\n",
    "        ser = serial.Serial(\"/dev/tty.usbmodem11101\", baudrate = 9600, timeout=3)\n",
    "        string = ''\n",
    "        while True:\n",
    "            string += ser.readline().decode('ascii')\n",
    "            if '<s>' in string:\n",
    "                switch = True\n",
    "            if switch:\n",
    "                if '<e>' in string:\n",
    "                    break\n",
    "        return string\n"
   ]
  },
  {
   "cell_type": "code",
   "execution_count": 5,
   "metadata": {},
   "outputs": [
    {
     "data": {
      "image/png": "[encoded data removed]",
      "text/plain": [
       "<Figure size 640x480 with 1 Axes>"
      ]
     },
     "metadata": {},
     "output_type": "display_data"
    }
   ],
   "source": [
    "img = PIL.Image.open('images/401254.jpg')\n",
    "img = img.resize((16,16))\n",
    "plt.imshow(img, cmap='gray')\n",
    "\n",
    "# save the image\n",
    "img.save('images/butterfly.png')"
   ]
  },
  {
   "cell_type": "code",
   "execution_count": 64,
   "metadata": {},
   "outputs": [],
   "source": [
    "TransmissionData.gen_huffman_codes('images')\n",
    "huffman_codes = json.load(open('huffman_codes.json', 'r'))"
   ]
  },
  {
   "cell_type": "code",
   "execution_count": 65,
   "metadata": {},
   "outputs": [
    {
     "data": {
      "image/png": "[encoded data removed]",
      "text/plain": [
       "<Figure size 640x480 with 1 Axes>"
      ]
     },
     "metadata": {},
     "output_type": "display_data"
    }
   ],
   "source": [
    "img = np.array(PIL.Image.open('images/amongus.png').convert('L'))\n",
    "img = img//4\n",
    "transmission_data = TransmissionData(img, huffman_codes)\n",
    "transmission_data.show_image()"
   ]
  },
  {
   "cell_type": "code",
   "execution_count": 66,
   "metadata": {},
   "outputs": [
    {
     "data": {
      "image/png": "[encoded data removed]",
      "text/plain": [
       "<Figure size 640x480 with 1 Axes>"
      ]
     },
     "metadata": {},
     "output_type": "display_data"
    }
   ],
   "source": [
    "recieved_data = RecievedData(transmission_data.encoded_string, huffman_codes)\n",
    "recieved_data.show_image()"
   ]
  }
 ],
 "metadata": {
  "kernelspec": {
   "display_name": "CP",
   "language": "python",
   "name": "python3"
  },
  "language_info": {
   "codemirror_mode": {
    "name": "ipython",
    "version": 3
   },
   "file_extension": ".py",
   "mimetype": "text/x-python",
   "name": "python",
   "nbconvert_exporter": "python",
   "pygments_lexer": "ipython3",
   "version": "3.9.16"
  },
  "orig_nbformat": 4
 },
 "nbformat": 4,
 "nbformat_minor": 2
}
